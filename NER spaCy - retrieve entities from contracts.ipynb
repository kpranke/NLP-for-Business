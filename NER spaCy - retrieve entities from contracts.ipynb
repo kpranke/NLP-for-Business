{
 "cells": [
  {
   "cell_type": "code",
   "execution_count": 25,
   "id": "da672976",
   "metadata": {},
   "outputs": [],
   "source": [
    "import spacy\n",
    "import pandas as pd\n",
    "import os"
   ]
  },
  {
   "cell_type": "code",
   "execution_count": 26,
   "id": "5863594f",
   "metadata": {},
   "outputs": [],
   "source": [
    "# Import data\n",
    "path = r\"C:\\Users\\kasia\\pyproj\\NLP-for-Business\\project4\\kpranke\\legal_contract_txt\"\n",
    "#file = r\"C:\\Users\\kasia\\pyproj\\NLP-for-Business\\project4\\kpranke\\legal_contract_txt\\2ThemartComInc_19990826_10-12G_EX-10.10_6700288_EX-10.10_Co-Branding Agreement_ Agency Agreement.txt\"\n",
    "# Loop over text files in the path folder"
   ]
  },
  {
   "cell_type": "code",
   "execution_count": 27,
   "id": "11e62629",
   "metadata": {},
   "outputs": [],
   "source": [
    "# change directory\n",
    "os.chdir(path)\n",
    "\n",
    "# create empty list\n",
    "documents = []\n",
    "# iterate through all files\n",
    "for file in os.listdir():\n",
    "    # check whether file is in text format or not\n",
    "    if file.endswith(\".txt\"):\n",
    "        file_path = f\"{path}\\{file}\"\n",
    "        with open(file_path, encoding=\"UTF-8\") as f:\n",
    "            documents.append(f.read())"
   ]
  },
  {
   "cell_type": "code",
   "execution_count": null,
   "id": "5a7b60d9",
   "metadata": {},
   "outputs": [],
   "source": [
    "# NER with spaCy\n",
    "\n",
    "# Load spaCy pipeline\n",
    "nlp = spacy.load(\"en_core_web_lg\")\n",
    "\n",
    "for document in documents:\n",
    "    # Create a doc variable  by applying spaCy pipeline to a file\n",
    "    doc = nlp(document)\n",
    "    \n",
    "# Iterate through named entities\n",
    "for ent in doc.ents:\n",
    "    # extract desired characteristics\n",
    "    text = [ent.text for ent in doc.ents]\n",
    "    labels = [ent.label_ for ent in doc.ents]"
   ]
  },
  {
   "cell_type": "code",
   "execution_count": null,
   "id": "36be7009",
   "metadata": {},
   "outputs": [],
   "source": [
    "# Create a dataframe with the detected entities\n",
    "df = pd.DataFrame(list(zip(text,labels)), columns = ['Text', 'Label'])"
   ]
  },
  {
   "cell_type": "code",
   "execution_count": null,
   "id": "30e8b5dc",
   "metadata": {},
   "outputs": [],
   "source": [
    "df"
   ]
  },
  {
   "cell_type": "code",
   "execution_count": null,
   "id": "0cc5f37f",
   "metadata": {},
   "outputs": [],
   "source": [
    "# Extract parties of the contract, place of the contract, date of the contract, contract value, contract duration (in a table)"
   ]
  },
  {
   "cell_type": "code",
   "execution_count": null,
   "id": "4090f9a4",
   "metadata": {},
   "outputs": [],
   "source": []
  }
 ],
 "metadata": {
  "kernelspec": {
   "display_name": "Python 3 (ipykernel)",
   "language": "python",
   "name": "python3"
  },
  "language_info": {
   "codemirror_mode": {
    "name": "ipython",
    "version": 3
   },
   "file_extension": ".py",
   "mimetype": "text/x-python",
   "name": "python",
   "nbconvert_exporter": "python",
   "pygments_lexer": "ipython3",
   "version": "3.9.4"
  }
 },
 "nbformat": 4,
 "nbformat_minor": 5
}
